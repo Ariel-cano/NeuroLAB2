{
 "cells": [
  {
   "cell_type": "code",
   "id": "initial_id",
   "metadata": {
    "collapsed": true,
    "ExecuteTime": {
     "end_time": "2025-10-25T16:14:51.537909Z",
     "start_time": "2025-10-25T16:14:50.350622Z"
    }
   },
   "source": [
    "# Импорт необходимых библиотек\n",
    "import pandas as pd\n",
    "import numpy as np\n",
    "import matplotlib.pyplot as plt\n",
    "import seaborn as sns\n",
    "from sklearn.model_selection import train_test_split\n",
    "from sklearn.preprocessing import StandardScaler\n",
    "from sklearn.pipeline import Pipeline\n",
    "from sklearn.compose import ColumnTransformer\n",
    "from sklearn.impute import SimpleImputer\n",
    "import warnings\n",
    "warnings.filterwarnings('ignore')\n",
    "\n",
    "# Фиксация random_state для воспроизводимости результатов\n",
    "RANDOM_STATE = 42\n",
    "np.random.seed(RANDOM_STATE)"
   ],
   "outputs": [],
   "execution_count": 1
  },
  {
   "metadata": {
    "ExecuteTime": {
     "end_time": "2025-10-25T16:15:11.222008Z",
     "start_time": "2025-10-25T16:15:11.170240Z"
    }
   },
   "cell_type": "code",
   "source": [
    "# Загрузка очищенного датасета из ЛР-1\n",
    "df = pd.read_csv('../data/raw/diabetes_clean.csv')\n",
    "\n",
    "# Вывод основной информации о данных\n",
    "print(\"Размер датасета:\", df.shape)\n",
    "print(\"\\nПервые 5 строк:\")\n",
    "df.head()"
   ],
   "id": "c7683320bab2c06d",
   "outputs": [
    {
     "name": "stdout",
     "output_type": "stream",
     "text": [
      "Размер датасета: (768, 9)\n",
      "\n",
      "Первые 5 строк:\n"
     ]
    },
    {
     "data": {
      "text/plain": [
       "   Pregnancies   Glucose  BloodPressure  SkinThickness   Insulin       BMI  \\\n",
       "0     0.352941  0.670968       0.489796       0.304348  0.133413  0.314928   \n",
       "1     0.058824  0.264516       0.428571       0.239130  0.133413  0.171779   \n",
       "2     0.470588  0.896774       0.408163       0.239130  0.133413  0.104294   \n",
       "3     0.058824  0.290323       0.428571       0.173913  0.118840  0.202454   \n",
       "4     0.000000  0.600000       0.163265       0.304348  0.146484  0.509202   \n",
       "\n",
       "   DiabetesPedigreeFunction       Age  Outcome  \n",
       "0                  0.234415  0.483333        1  \n",
       "1                  0.116567  0.166667        0  \n",
       "2                  0.253629  0.183333        1  \n",
       "3                  0.038002  0.000000        0  \n",
       "4                  0.479078  0.200000        1  "
      ],
      "text/html": [
       "<div>\n",
       "<style scoped>\n",
       "    .dataframe tbody tr th:only-of-type {\n",
       "        vertical-align: middle;\n",
       "    }\n",
       "\n",
       "    .dataframe tbody tr th {\n",
       "        vertical-align: top;\n",
       "    }\n",
       "\n",
       "    .dataframe thead th {\n",
       "        text-align: right;\n",
       "    }\n",
       "</style>\n",
       "<table border=\"1\" class=\"dataframe\">\n",
       "  <thead>\n",
       "    <tr style=\"text-align: right;\">\n",
       "      <th></th>\n",
       "      <th>Pregnancies</th>\n",
       "      <th>Glucose</th>\n",
       "      <th>BloodPressure</th>\n",
       "      <th>SkinThickness</th>\n",
       "      <th>Insulin</th>\n",
       "      <th>BMI</th>\n",
       "      <th>DiabetesPedigreeFunction</th>\n",
       "      <th>Age</th>\n",
       "      <th>Outcome</th>\n",
       "    </tr>\n",
       "  </thead>\n",
       "  <tbody>\n",
       "    <tr>\n",
       "      <th>0</th>\n",
       "      <td>0.352941</td>\n",
       "      <td>0.670968</td>\n",
       "      <td>0.489796</td>\n",
       "      <td>0.304348</td>\n",
       "      <td>0.133413</td>\n",
       "      <td>0.314928</td>\n",
       "      <td>0.234415</td>\n",
       "      <td>0.483333</td>\n",
       "      <td>1</td>\n",
       "    </tr>\n",
       "    <tr>\n",
       "      <th>1</th>\n",
       "      <td>0.058824</td>\n",
       "      <td>0.264516</td>\n",
       "      <td>0.428571</td>\n",
       "      <td>0.239130</td>\n",
       "      <td>0.133413</td>\n",
       "      <td>0.171779</td>\n",
       "      <td>0.116567</td>\n",
       "      <td>0.166667</td>\n",
       "      <td>0</td>\n",
       "    </tr>\n",
       "    <tr>\n",
       "      <th>2</th>\n",
       "      <td>0.470588</td>\n",
       "      <td>0.896774</td>\n",
       "      <td>0.408163</td>\n",
       "      <td>0.239130</td>\n",
       "      <td>0.133413</td>\n",
       "      <td>0.104294</td>\n",
       "      <td>0.253629</td>\n",
       "      <td>0.183333</td>\n",
       "      <td>1</td>\n",
       "    </tr>\n",
       "    <tr>\n",
       "      <th>3</th>\n",
       "      <td>0.058824</td>\n",
       "      <td>0.290323</td>\n",
       "      <td>0.428571</td>\n",
       "      <td>0.173913</td>\n",
       "      <td>0.118840</td>\n",
       "      <td>0.202454</td>\n",
       "      <td>0.038002</td>\n",
       "      <td>0.000000</td>\n",
       "      <td>0</td>\n",
       "    </tr>\n",
       "    <tr>\n",
       "      <th>4</th>\n",
       "      <td>0.000000</td>\n",
       "      <td>0.600000</td>\n",
       "      <td>0.163265</td>\n",
       "      <td>0.304348</td>\n",
       "      <td>0.146484</td>\n",
       "      <td>0.509202</td>\n",
       "      <td>0.479078</td>\n",
       "      <td>0.200000</td>\n",
       "      <td>1</td>\n",
       "    </tr>\n",
       "  </tbody>\n",
       "</table>\n",
       "</div>"
      ]
     },
     "execution_count": 3,
     "metadata": {},
     "output_type": "execute_result"
    }
   ],
   "execution_count": 3
  },
  {
   "metadata": {
    "ExecuteTime": {
     "end_time": "2025-10-25T16:15:21.040732Z",
     "start_time": "2025-10-25T16:15:20.961066Z"
    }
   },
   "cell_type": "code",
   "source": [
    "# Проверка информации о данных\n",
    "print(\"Информация о датасете:\")\n",
    "print(df.info())\n",
    "print(\"\\nСтатистика данных:\")\n",
    "df.describe()"
   ],
   "id": "300b1e93d6baabc0",
   "outputs": [
    {
     "name": "stdout",
     "output_type": "stream",
     "text": [
      "Информация о датасете:\n",
      "<class 'pandas.core.frame.DataFrame'>\n",
      "RangeIndex: 768 entries, 0 to 767\n",
      "Data columns (total 9 columns):\n",
      " #   Column                    Non-Null Count  Dtype  \n",
      "---  ------                    --------------  -----  \n",
      " 0   Pregnancies               768 non-null    float64\n",
      " 1   Glucose                   768 non-null    float64\n",
      " 2   BloodPressure             768 non-null    float64\n",
      " 3   SkinThickness             768 non-null    float64\n",
      " 4   Insulin                   768 non-null    float64\n",
      " 5   BMI                       768 non-null    float64\n",
      " 6   DiabetesPedigreeFunction  768 non-null    float64\n",
      " 7   Age                       768 non-null    float64\n",
      " 8   Outcome                   768 non-null    int64  \n",
      "dtypes: float64(8), int64(1)\n",
      "memory usage: 54.1 KB\n",
      "None\n",
      "\n",
      "Статистика данных:\n"
     ]
    },
    {
     "data": {
      "text/plain": [
       "       Pregnancies     Glucose  BloodPressure  SkinThickness     Insulin  \\\n",
       "count   768.000000  768.000000     768.000000     768.000000  768.000000   \n",
       "mean      0.225720    0.501205       0.493638       0.237680    0.133042   \n",
       "std       0.196715    0.196361       0.119355       0.080895    0.009512   \n",
       "min       0.000000    0.000000       0.163265       0.081522    0.118840   \n",
       "25%       0.058824    0.359677       0.408163       0.195652    0.129207   \n",
       "50%       0.176471    0.470968       0.491863       0.239130    0.133413   \n",
       "75%       0.352941    0.620968       0.571429       0.271739    0.136118   \n",
       "max       0.794118    1.000000       0.816327       0.385870    0.146484   \n",
       "\n",
       "              BMI  DiabetesPedigreeFunction         Age     Outcome  \n",
       "count  768.000000                768.000000  768.000000  768.000000  \n",
       "mean     0.290299                  0.162645    0.203331    0.348958  \n",
       "std      0.136349                  0.121945    0.193807    0.476951  \n",
       "min      0.000000                  0.000000    0.000000    0.000000  \n",
       "25%      0.190184                  0.070773    0.050000    0.000000  \n",
       "50%      0.290389                  0.125747    0.133333    0.000000  \n",
       "75%      0.376278                  0.234095    0.333333    1.000000  \n",
       "max      0.655419                  0.479078    0.758333    1.000000  "
      ],
      "text/html": [
       "<div>\n",
       "<style scoped>\n",
       "    .dataframe tbody tr th:only-of-type {\n",
       "        vertical-align: middle;\n",
       "    }\n",
       "\n",
       "    .dataframe tbody tr th {\n",
       "        vertical-align: top;\n",
       "    }\n",
       "\n",
       "    .dataframe thead th {\n",
       "        text-align: right;\n",
       "    }\n",
       "</style>\n",
       "<table border=\"1\" class=\"dataframe\">\n",
       "  <thead>\n",
       "    <tr style=\"text-align: right;\">\n",
       "      <th></th>\n",
       "      <th>Pregnancies</th>\n",
       "      <th>Glucose</th>\n",
       "      <th>BloodPressure</th>\n",
       "      <th>SkinThickness</th>\n",
       "      <th>Insulin</th>\n",
       "      <th>BMI</th>\n",
       "      <th>DiabetesPedigreeFunction</th>\n",
       "      <th>Age</th>\n",
       "      <th>Outcome</th>\n",
       "    </tr>\n",
       "  </thead>\n",
       "  <tbody>\n",
       "    <tr>\n",
       "      <th>count</th>\n",
       "      <td>768.000000</td>\n",
       "      <td>768.000000</td>\n",
       "      <td>768.000000</td>\n",
       "      <td>768.000000</td>\n",
       "      <td>768.000000</td>\n",
       "      <td>768.000000</td>\n",
       "      <td>768.000000</td>\n",
       "      <td>768.000000</td>\n",
       "      <td>768.000000</td>\n",
       "    </tr>\n",
       "    <tr>\n",
       "      <th>mean</th>\n",
       "      <td>0.225720</td>\n",
       "      <td>0.501205</td>\n",
       "      <td>0.493638</td>\n",
       "      <td>0.237680</td>\n",
       "      <td>0.133042</td>\n",
       "      <td>0.290299</td>\n",
       "      <td>0.162645</td>\n",
       "      <td>0.203331</td>\n",
       "      <td>0.348958</td>\n",
       "    </tr>\n",
       "    <tr>\n",
       "      <th>std</th>\n",
       "      <td>0.196715</td>\n",
       "      <td>0.196361</td>\n",
       "      <td>0.119355</td>\n",
       "      <td>0.080895</td>\n",
       "      <td>0.009512</td>\n",
       "      <td>0.136349</td>\n",
       "      <td>0.121945</td>\n",
       "      <td>0.193807</td>\n",
       "      <td>0.476951</td>\n",
       "    </tr>\n",
       "    <tr>\n",
       "      <th>min</th>\n",
       "      <td>0.000000</td>\n",
       "      <td>0.000000</td>\n",
       "      <td>0.163265</td>\n",
       "      <td>0.081522</td>\n",
       "      <td>0.118840</td>\n",
       "      <td>0.000000</td>\n",
       "      <td>0.000000</td>\n",
       "      <td>0.000000</td>\n",
       "      <td>0.000000</td>\n",
       "    </tr>\n",
       "    <tr>\n",
       "      <th>25%</th>\n",
       "      <td>0.058824</td>\n",
       "      <td>0.359677</td>\n",
       "      <td>0.408163</td>\n",
       "      <td>0.195652</td>\n",
       "      <td>0.129207</td>\n",
       "      <td>0.190184</td>\n",
       "      <td>0.070773</td>\n",
       "      <td>0.050000</td>\n",
       "      <td>0.000000</td>\n",
       "    </tr>\n",
       "    <tr>\n",
       "      <th>50%</th>\n",
       "      <td>0.176471</td>\n",
       "      <td>0.470968</td>\n",
       "      <td>0.491863</td>\n",
       "      <td>0.239130</td>\n",
       "      <td>0.133413</td>\n",
       "      <td>0.290389</td>\n",
       "      <td>0.125747</td>\n",
       "      <td>0.133333</td>\n",
       "      <td>0.000000</td>\n",
       "    </tr>\n",
       "    <tr>\n",
       "      <th>75%</th>\n",
       "      <td>0.352941</td>\n",
       "      <td>0.620968</td>\n",
       "      <td>0.571429</td>\n",
       "      <td>0.271739</td>\n",
       "      <td>0.136118</td>\n",
       "      <td>0.376278</td>\n",
       "      <td>0.234095</td>\n",
       "      <td>0.333333</td>\n",
       "      <td>1.000000</td>\n",
       "    </tr>\n",
       "    <tr>\n",
       "      <th>max</th>\n",
       "      <td>0.794118</td>\n",
       "      <td>1.000000</td>\n",
       "      <td>0.816327</td>\n",
       "      <td>0.385870</td>\n",
       "      <td>0.146484</td>\n",
       "      <td>0.655419</td>\n",
       "      <td>0.479078</td>\n",
       "      <td>0.758333</td>\n",
       "      <td>1.000000</td>\n",
       "    </tr>\n",
       "  </tbody>\n",
       "</table>\n",
       "</div>"
      ]
     },
     "execution_count": 4,
     "metadata": {},
     "output_type": "execute_result"
    }
   ],
   "execution_count": 4
  },
  {
   "metadata": {
    "ExecuteTime": {
     "end_time": "2025-10-25T16:15:21.150573Z",
     "start_time": "2025-10-25T16:15:21.146781Z"
    }
   },
   "cell_type": "code",
   "source": "",
   "id": "4f6575a4c9c005bd",
   "outputs": [],
   "execution_count": 4
  },
  {
   "metadata": {
    "ExecuteTime": {
     "end_time": "2025-10-25T16:15:35.253864Z",
     "start_time": "2025-10-25T16:15:34.964365Z"
    }
   },
   "cell_type": "code",
   "source": [
    "# Проверка баланса целевой переменной\n",
    "print(\"Распределение целевой переменной (Outcome):\")\n",
    "print(df['Outcome'].value_counts())\n",
    "print(\"\\nДоли классов:\")\n",
    "print(df['Outcome'].value_counts(normalize=True))\n",
    "\n",
    "# Визуализация распределения целевой переменной\n",
    "plt.figure(figsize=(8, 6))\n",
    "sns.countplot(data=df, x='Outcome')\n",
    "plt.title('Распределение целевой переменной Outcome')\n",
    "plt.xlabel('Outcome (0 - нет диабета, 1 - диабет)')\n",
    "plt.ylabel('Количество наблюдений')\n",
    "plt.show()"
   ],
   "id": "35afafc6bf5bb0ad",
   "outputs": [
    {
     "name": "stdout",
     "output_type": "stream",
     "text": [
      "Распределение целевой переменной (Outcome):\n",
      "Outcome\n",
      "0    500\n",
      "1    268\n",
      "Name: count, dtype: int64\n",
      "\n",
      "Доли классов:\n",
      "Outcome\n",
      "0    0.651042\n",
      "1    0.348958\n",
      "Name: proportion, dtype: float64\n"
     ]
    },
    {
     "data": {
      "text/plain": [
       "<Figure size 800x600 with 1 Axes>"
      ],
      "image/png": "[encoded data removed]"
     },
     "metadata": {},
     "output_type": "display_data"
    }
   ],
   "execution_count": 5
  },
  {
   "metadata": {
    "ExecuteTime": {
     "end_time": "2025-10-25T16:15:45.473867Z",
     "start_time": "2025-10-25T16:15:45.460940Z"
    }
   },
   "cell_type": "code",
   "source": [
    "# Разделение на признаки и целевую переменную\n",
    "X = df.drop('Outcome', axis=1)\n",
    "y = df['Outcome']\n",
    "\n",
    "# Список всех признаков (все числовые)\n",
    "feature_names = X.columns.tolist()\n",
    "print(\"Список признаков:\", feature_names)"
   ],
   "id": "5c0bd4c6384235b4",
   "outputs": [
    {
     "name": "stdout",
     "output_type": "stream",
     "text": [
      "Список признаков: ['Pregnancies', 'Glucose', 'BloodPressure', 'SkinThickness', 'Insulin', 'BMI', 'DiabetesPedigreeFunction', 'Age']\n"
     ]
    }
   ],
   "execution_count": 6
  },
  {
   "metadata": {
    "ExecuteTime": {
     "end_time": "2025-10-25T16:15:54.380831Z",
     "start_time": "2025-10-25T16:15:54.371030Z"
    }
   },
   "cell_type": "code",
   "source": [
    "# Создание ColumnTransformer для обработки числовых признаков\n",
    "# Все признаки уже нормализованы в [0,1] из ЛР-1, но добавим StandardScaler для стандартизации\n",
    "# и SimpleImputer для обработки возможных пропусков (хотя в очищенном датасете их нет)\n",
    "\n",
    "numeric_features = feature_names\n",
    "numeric_transformer = Pipeline(steps=[\n",
    "    ('imputer', SimpleImputer(strategy='median')),  # стратегия - медиана\n",
    "    ('scaler', StandardScaler())  # стандартизация\n",
    "])\n",
    "\n",
    "# Объединение в ColumnTransformer\n",
    "preprocessor = ColumnTransformer(\n",
    "    transformers=[\n",
    "        ('num', numeric_transformer, numeric_features)\n",
    "    ])\n",
    "\n",
    "print(\"Структура препроцессора создана успешно\")"
   ],
   "id": "8baf5854adfef5fa",
   "outputs": [
    {
     "name": "stdout",
     "output_type": "stream",
     "text": [
      "Структура препроцессора создана успешно\n"
     ]
    }
   ],
   "execution_count": 7
  },
  {
   "metadata": {
    "ExecuteTime": {
     "end_time": "2025-10-25T16:16:41.107991Z",
     "start_time": "2025-10-25T16:16:41.089588Z"
    }
   },
   "cell_type": "code",
   "source": [
    "# Стратифицированное разбиение на train/valid/test в соотношении 60/20/20\n",
    "X_temp, X_test, y_temp, y_test = train_test_split(\n",
    "    X, y, \n",
    "    test_size=0.2, \n",
    "    stratify=y,  # стратификация по целевой переменной\n",
    "    random_state=RANDOM_STATE\n",
    ")\n",
    "\n",
    "X_train, X_valid, y_train, y_valid = train_test_split(\n",
    "    X_temp, y_temp, \n",
    "    test_size=0.25,  # 0.25 от 80% = 20% от общего объема\n",
    "    stratify=y_temp,  # стратификация\n",
    "    random_state=RANDOM_STATE\n",
    ")\n",
    "\n",
    "print(\"Размеры выборок:\")\n",
    "print(f\"Обучающая выборка (train): {X_train.shape[0]} samples ({X_train.shape[0]/len(X)*100:.1f}%)\")\n",
    "print(f\"Валидационная выборка (valid): {X_valid.shape[0]} samples ({X_valid.shape[0]/len(X)*100:.1f}%)\")\n",
    "print(f\"Тестовая выборка (test): {X_test.shape[0]} samples ({X_test.shape[0]/len(X)*100:.1f}%)\")"
   ],
   "id": "f8387b655705fae2",
   "outputs": [
    {
     "name": "stdout",
     "output_type": "stream",
     "text": [
      "Размеры выборок:\n",
      "Обучающая выборка (train): 460 samples (59.9%)\n",
      "Валидационная выборка (valid): 154 samples (20.1%)\n",
      "Тестовая выборка (test): 154 samples (20.1%)\n"
     ]
    }
   ],
   "execution_count": 8
  },
  {
   "metadata": {
    "ExecuteTime": {
     "end_time": "2025-10-25T16:16:57.074536Z",
     "start_time": "2025-10-25T16:16:57.060657Z"
    }
   },
   "cell_type": "code",
   "source": [
    "# Проверка распределения целевой переменной в разных выборках\n",
    "def check_stratification(y_train, y_valid, y_test, y_original):\n",
    "    \"\"\"Функция для проверки стратификации\"\"\"\n",
    "    original_dist = y_original.value_counts(normalize=True)\n",
    "    train_dist = y_train.value_counts(normalize=True)\n",
    "    valid_dist = y_valid.value_counts(normalize=True)\n",
    "    test_dist = y_test.value_counts(normalize=True)\n",
    "    \n",
    "    stratification_check = pd.DataFrame({\n",
    "        'Original': original_dist,\n",
    "        'Train': train_dist,\n",
    "        'Valid': valid_dist,\n",
    "        'Test': test_dist\n",
    "    })\n",
    "    \n",
    "    return stratification_check\n",
    "\n",
    "# Проверка стратификации\n",
    "strat_check = check_stratification(y_train, y_valid, y_test, y)\n",
    "print(\"Проверка стратификации (доли классов):\")\n",
    "print(strat_check)"
   ],
   "id": "3a31b557ad0d93fb",
   "outputs": [
    {
     "name": "stdout",
     "output_type": "stream",
     "text": [
      "Проверка стратификации (доли классов):\n",
      "         Original     Train     Valid      Test\n",
      "Outcome                                        \n",
      "0        0.651042  0.652174  0.649351  0.649351\n",
      "1        0.348958  0.347826  0.350649  0.350649\n"
     ]
    }
   ],
   "execution_count": 9
  },
  {
   "metadata": {
    "ExecuteTime": {
     "end_time": "2025-10-25T16:17:12.776331Z",
     "start_time": "2025-10-25T16:17:11.946090Z"
    }
   },
   "cell_type": "code",
   "source": [
    "# Визуализация распределения классов в разных выборках\n",
    "plt.figure(figsize=(12, 6))\n",
    "\n",
    "plt.subplot(1, 4, 1)\n",
    "sns.countplot(x=y, order=[0, 1])\n",
    "plt.title('Исходное распределение')\n",
    "plt.xticks([0, 1], ['No Diabetes', 'Diabetes'])\n",
    "\n",
    "plt.subplot(1, 4, 2)\n",
    "sns.countplot(x=y_train, order=[0, 1])\n",
    "plt.title('Train выборка')\n",
    "plt.xticks([0, 1], ['No Diabetes', 'Diabetes'])\n",
    "\n",
    "plt.subplot(1, 4, 3)\n",
    "sns.countplot(x=y_valid, order=[0, 1])\n",
    "plt.title('Valid выборка')\n",
    "plt.xticks([0, 1], ['No Diabetes', 'Diabetes'])\n",
    "\n",
    "plt.subplot(1, 4, 4)\n",
    "sns.countplot(x=y_test, order=[0, 1])\n",
    "plt.title('Test выборка')\n",
    "plt.xticks([0, 1], ['No Diabetes', 'Diabetes'])\n",
    "\n",
    "plt.tight_layout()\n",
    "plt.show()"
   ],
   "id": "c519cc1edd1a414f",
   "outputs": [
    {
     "data": {
      "text/plain": [
       "<Figure size 1200x600 with 4 Axes>"
      ],
      "image/png": "[encoded data removed]"
     },
     "metadata": {},
     "output_type": "display_data"
    }
   ],
   "execution_count": 10
  },
  {
   "metadata": {
    "ExecuteTime": {
     "end_time": "2025-10-25T16:17:42.364277Z",
     "start_time": "2025-10-25T16:17:42.345113Z"
    }
   },
   "cell_type": "code",
   "source": [
    "# Создание полного пайплаина для будущих моделей\n",
    "def create_model_pipeline(model):\n",
    "    \"\"\"Создание полного пайплаина с препроцессингом и моделью\"\"\"\n",
    "    return Pipeline(steps=[\n",
    "        ('preprocessor', preprocessor),\n",
    "        ('classifier', model)\n",
    "    ])\n",
    "\n",
    "print(\"Функция для создания пайплаинов готова\")"
   ],
   "id": "ea1fb843a547927e",
   "outputs": [
    {
     "name": "stdout",
     "output_type": "stream",
     "text": [
      "Функция для создания пайплаинов готова\n"
     ]
    }
   ],
   "execution_count": 11
  },
  {
   "metadata": {
    "ExecuteTime": {
     "end_time": "2025-10-25T16:19:11.811259Z",
     "start_time": "2025-10-25T16:19:11.801958Z"
    }
   },
   "cell_type": "code",
   "source": [
    "# Сохранение разделенных данных для следующих участников\n",
    "data_split = {\n",
    "    'X_train': X_train,\n",
    "    'X_valid': X_valid, \n",
    "    'X_test': X_test,\n",
    "    'y_train': y_train,\n",
    "    'y_valid': y_valid,\n",
    "    'y_test': y_test,\n",
    "    'feature_names': feature_names,\n",
    "    'preprocessor': preprocessor\n",
    "}\n",
    "\n",
    "# Сохранение в файл\n",
    "import pickle\n",
    "\n",
    "with open('../data/interim/data_split.pkl', 'wb') as f:\n",
    "    pickle.dump(data_split, f)\n",
    "\n",
    "print(\"Разделенные данные сохранены в файл '../data/interim/data_split.pkl'\")"
   ],
   "id": "7eb7f629ee7cf0cb",
   "outputs": [
    {
     "name": "stdout",
     "output_type": "stream",
     "text": [
      "Разделенные данные сохранены в файл '../data/interim/data_split.pkl'\n"
     ]
    }
   ],
   "execution_count": 14
  },
  {
   "metadata": {
    "ExecuteTime": {
     "end_time": "2025-10-25T16:19:42.333963Z",
     "start_time": "2025-10-25T16:19:42.322817Z"
    }
   },
   "cell_type": "code",
   "source": [
    "print(\"=\" * 50)\n",
    "print(\"ОТЧЕТ УЧАСТНИКА 1: ПОДГОТОВКА ДАННЫХ\")\n",
    "print(\"=\" * 50)\n",
    "\n",
    "print(\"\\n✅ ВЫПОЛНЕННЫЕ ЗАДАЧИ:\")\n",
    "print(\"1. Создан репозиторий проекта (ноутбук)\")\n",
    "print(\"2. Загружен очищенный датасет из ЛР-1\")\n",
    "print(\"3. Создан sklearn Pipeline с ColumnTransformer\")\n",
    "print(\"4. Выполнено стратифицированное разбиение 60/20/20\")\n",
    "print(\"5. Зафиксирован random_state = 42\")\n",
    "print(\"6. Проверена стратификация для дисбалансных классов\")\n",
    "print(\"7. Данные сохранены для следующих участников\")\n",
    "\n",
    "print(\"\\n📊 СТАТИСТИКА ДАННЫХ:\")\n",
    "print(f\"Общий размер датасета: {df.shape}\")\n",
    "print(f\"Количество признаков: {len(feature_names)}\")\n",
    "print(f\"Размер train: {X_train.shape} ({len(y_train)/len(df)*100:.1f}%)\")\n",
    "print(f\"Размер valid: {X_valid.shape} ({len(y_valid)/len(df)*100:.1f}%)\") \n",
    "print(f\"Размер test: {X_test.shape} ({len(y_test)/len(df)*100:.1f}%)\")\n",
    "\n",
    "print(\"\\n🎯 РАСПРЕДЕЛЕНИЕ ЦЕЛЕВОЙ ПЕРЕМЕННОЙ:\")\n",
    "print(f\"Класс 0 (нет диабета): {sum(y == 0)} ({sum(y == 0)/len(y)*100:.1f}%)\")\n",
    "print(f\"Класс 1 (диабет): {sum(y == 1)} ({sum(y == 1)/len(y)*100:.1f}%)\")\n",
    "\n",
    "print(\"\\n🔧 НАСТРОЙКИ ПРЕПРОЦЕССИНГА:\")\n",
    "print(\"Все признаки числовые\")\n",
    "print(\"SimpleImputer: strategy='median'\")\n",
    "print(\"StandardScaler: стандартизация признаков\")\n",
    "print(\"Стратификация: включена\")\n",
    "\n",
    "print(\"\\n📁 СОХРАНЕННЫЕ ФАЙЛЫ:\")\n",
    "print(\"1. diabetes_clean.csv - исходные данные\")\n",
    "print(\"2. data_split.pkl - разделенные данные для участников 2-5\")"
   ],
   "id": "1ad904efa4124d9a",
   "outputs": [
    {
     "name": "stdout",
     "output_type": "stream",
     "text": [
      "==================================================\n",
      "ОТЧЕТ УЧАСТНИКА 1: ПОДГОТОВКА ДАННЫХ\n",
      "==================================================\n",
      "\n",
      "✅ ВЫПОЛНЕННЫЕ ЗАДАЧИ:\n",
      "1. Создан репозиторий проекта (ноутбук)\n",
      "2. Загружен очищенный датасет из ЛР-1\n",
      "3. Создан sklearn Pipeline с ColumnTransformer\n",
      "4. Выполнено стратифицированное разбиение 60/20/20\n",
      "5. Зафиксирован random_state = 42\n",
      "6. Проверена стратификация для дисбалансных классов\n",
      "7. Данные сохранены для следующих участников\n",
      "\n",
      "📊 СТАТИСТИКА ДАННЫХ:\n",
      "Общий размер датасета: (768, 9)\n",
      "Количество признаков: 8\n",
      "Размер train: (460, 8) (59.9%)\n",
      "Размер valid: (154, 8) (20.1%)\n",
      "Размер test: (154, 8) (20.1%)\n",
      "\n",
      "🎯 РАСПРЕДЕЛЕНИЕ ЦЕЛЕВОЙ ПЕРЕМЕННОЙ:\n",
      "Класс 0 (нет диабета): 500 (65.1%)\n",
      "Класс 1 (диабет): 268 (34.9%)\n",
      "\n",
      "🔧 НАСТРОЙКИ ПРЕПРОЦЕССИНГА:\n",
      "Все признаки числовые\n",
      "SimpleImputer: strategy='median'\n",
      "StandardScaler: стандартизация признаков\n",
      "Стратификация: включена\n",
      "\n",
      "📁 СОХРАНЕННЫЕ ФАЙЛЫ:\n",
      "1. diabetes_clean.csv - исходные данные\n",
      "2. data_split.pkl - разделенные данные для участников 2-5\n"
     ]
    }
   ],
   "execution_count": 15
  },
  {
   "metadata": {},
   "cell_type": "code",
   "outputs": [],
   "execution_count": null,
   "source": "",
   "id": "42bf4b812d2797bd"
  }
 ],
 "metadata": {
  "kernelspec": {
   "display_name": "Python 3",
   "language": "python",
   "name": "python3"
  },
  "language_info": {
   "codemirror_mode": {
    "name": "ipython",
    "version": 2
   },
   "file_extension": ".py",
   "mimetype": "text/x-python",
   "name": "python",
   "nbconvert_exporter": "python",
   "pygments_lexer": "ipython2",
   "version": "2.7.6"
  }
 },
 "nbformat": 4,
 "nbformat_minor": 5
}
