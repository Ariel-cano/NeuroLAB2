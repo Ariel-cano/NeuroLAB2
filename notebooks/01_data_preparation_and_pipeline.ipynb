{
 "cells": [
  {
   "cell_type": "code",
   "id": "initial_id",
   "metadata": {
    "collapsed": true,
    "ExecuteTime": {
     "end_time": "2025-10-26T11:45:09.253769Z",
     "start_time": "2025-10-26T11:45:09.242152Z"
    }
   },
   "source": [
    "# Импорт необходимых библиотек\n",
    "import pandas as pd\n",
    "import numpy as np\n",
    "import matplotlib.pyplot as plt\n",
    "import seaborn as sns\n",
    "from sklearn.model_selection import train_test_split\n",
    "from sklearn.preprocessing import MinMaxScaler\n",
    "from sklearn.pipeline import Pipeline\n",
    "from sklearn.compose import ColumnTransformer\n",
    "from sklearn.impute import SimpleImputer\n",
    "import warnings\n",
    "warnings.filterwarnings('ignore')\n",
    "\n",
    "# Фиксация random_state для воспроизводимости результатов\n",
    "RANDOM_STATE = 42\n",
    "np.random.seed(RANDOM_STATE)"
   ],
   "outputs": [],
   "execution_count": 15
  },
  {
   "metadata": {
    "ExecuteTime": {
     "end_time": "2025-10-26T11:45:09.471781Z",
     "start_time": "2025-10-26T11:45:09.440332Z"
    }
   },
   "cell_type": "code",
   "source": [
    "# Загрузка очищенного датасета из ЛР-1\n",
    "df = pd.read_csv('../data/raw/diabetes_clean.csv')\n",
    "\n",
    "# Вывод основной информации о данных\n",
    "print(\"Размер датасета:\", df.shape)\n",
    "print(\"\\nПервые 5 строк:\")\n",
    "df.head()"
   ],
   "id": "c7683320bab2c06d",
   "outputs": [
    {
     "name": "stdout",
     "output_type": "stream",
     "text": [
      "Размер датасета: (768, 9)\n",
      "\n",
      "Первые 5 строк:\n"
     ]
    },
    {
     "data": {
      "text/plain": [
       "   Pregnancies   Glucose  BloodPressure  SkinThickness   Insulin       BMI  \\\n",
       "0     0.352941  0.670968       0.489796       0.304348  0.133413  0.314928   \n",
       "1     0.058824  0.264516       0.428571       0.239130  0.133413  0.171779   \n",
       "2     0.470588  0.896774       0.408163       0.239130  0.133413  0.104294   \n",
       "3     0.058824  0.290323       0.428571       0.173913  0.118840  0.202454   \n",
       "4     0.000000  0.600000       0.163265       0.304348  0.146484  0.509202   \n",
       "\n",
       "   DiabetesPedigreeFunction       Age  Outcome  \n",
       "0                  0.234415  0.483333        1  \n",
       "1                  0.116567  0.166667        0  \n",
       "2                  0.253629  0.183333        1  \n",
       "3                  0.038002  0.000000        0  \n",
       "4                  0.479078  0.200000        1  "
      ],
      "text/html": [
       "<div>\n",
       "<style scoped>\n",
       "    .dataframe tbody tr th:only-of-type {\n",
       "        vertical-align: middle;\n",
       "    }\n",
       "\n",
       "    .dataframe tbody tr th {\n",
       "        vertical-align: top;\n",
       "    }\n",
       "\n",
       "    .dataframe thead th {\n",
       "        text-align: right;\n",
       "    }\n",
       "</style>\n",
       "<table border=\"1\" class=\"dataframe\">\n",
       "  <thead>\n",
       "    <tr style=\"text-align: right;\">\n",
       "      <th></th>\n",
       "      <th>Pregnancies</th>\n",
       "      <th>Glucose</th>\n",
       "      <th>BloodPressure</th>\n",
       "      <th>SkinThickness</th>\n",
       "      <th>Insulin</th>\n",
       "      <th>BMI</th>\n",
       "      <th>DiabetesPedigreeFunction</th>\n",
       "      <th>Age</th>\n",
       "      <th>Outcome</th>\n",
       "    </tr>\n",
       "  </thead>\n",
       "  <tbody>\n",
       "    <tr>\n",
       "      <th>0</th>\n",
       "      <td>0.352941</td>\n",
       "      <td>0.670968</td>\n",
       "      <td>0.489796</td>\n",
       "      <td>0.304348</td>\n",
       "      <td>0.133413</td>\n",
       "      <td>0.314928</td>\n",
       "      <td>0.234415</td>\n",
       "      <td>0.483333</td>\n",
       "      <td>1</td>\n",
       "    </tr>\n",
       "    <tr>\n",
       "      <th>1</th>\n",
       "      <td>0.058824</td>\n",
       "      <td>0.264516</td>\n",
       "      <td>0.428571</td>\n",
       "      <td>0.239130</td>\n",
       "      <td>0.133413</td>\n",
       "      <td>0.171779</td>\n",
       "      <td>0.116567</td>\n",
       "      <td>0.166667</td>\n",
       "      <td>0</td>\n",
       "    </tr>\n",
       "    <tr>\n",
       "      <th>2</th>\n",
       "      <td>0.470588</td>\n",
       "      <td>0.896774</td>\n",
       "      <td>0.408163</td>\n",
       "      <td>0.239130</td>\n",
       "      <td>0.133413</td>\n",
       "      <td>0.104294</td>\n",
       "      <td>0.253629</td>\n",
       "      <td>0.183333</td>\n",
       "      <td>1</td>\n",
       "    </tr>\n",
       "    <tr>\n",
       "      <th>3</th>\n",
       "      <td>0.058824</td>\n",
       "      <td>0.290323</td>\n",
       "      <td>0.428571</td>\n",
       "      <td>0.173913</td>\n",
       "      <td>0.118840</td>\n",
       "      <td>0.202454</td>\n",
       "      <td>0.038002</td>\n",
       "      <td>0.000000</td>\n",
       "      <td>0</td>\n",
       "    </tr>\n",
       "    <tr>\n",
       "      <th>4</th>\n",
       "      <td>0.000000</td>\n",
       "      <td>0.600000</td>\n",
       "      <td>0.163265</td>\n",
       "      <td>0.304348</td>\n",
       "      <td>0.146484</td>\n",
       "      <td>0.509202</td>\n",
       "      <td>0.479078</td>\n",
       "      <td>0.200000</td>\n",
       "      <td>1</td>\n",
       "    </tr>\n",
       "  </tbody>\n",
       "</table>\n",
       "</div>"
      ]
     },
     "execution_count": 16,
     "metadata": {},
     "output_type": "execute_result"
    }
   ],
   "execution_count": 16
  },
  {
   "metadata": {
    "ExecuteTime": {
     "end_time": "2025-10-26T11:45:09.519876Z",
     "start_time": "2025-10-26T11:45:09.471781Z"
    }
   },
   "cell_type": "code",
   "source": [
    "# Проверка информации о данных\n",
    "print(\"Информация о датасете:\")\n",
    "print(df.info())\n",
    "print(\"\\nСтатистика данных:\")\n",
    "df.describe()\n"
   ],
   "id": "dd19b59fd57a1baf",
   "outputs": [
    {
     "name": "stdout",
     "output_type": "stream",
     "text": [
      "Информация о датасете:\n",
      "<class 'pandas.core.frame.DataFrame'>\n",
      "RangeIndex: 768 entries, 0 to 767\n",
      "Data columns (total 9 columns):\n",
      " #   Column                    Non-Null Count  Dtype  \n",
      "---  ------                    --------------  -----  \n",
      " 0   Pregnancies               768 non-null    float64\n",
      " 1   Glucose                   768 non-null    float64\n",
      " 2   BloodPressure             768 non-null    float64\n",
      " 3   SkinThickness             768 non-null    float64\n",
      " 4   Insulin                   768 non-null    float64\n",
      " 5   BMI                       768 non-null    float64\n",
      " 6   DiabetesPedigreeFunction  768 non-null    float64\n",
      " 7   Age                       768 non-null    float64\n",
      " 8   Outcome                   768 non-null    int64  \n",
      "dtypes: float64(8), int64(1)\n",
      "memory usage: 54.1 KB\n",
      "None\n",
      "\n",
      "Статистика данных:\n"
     ]
    },
    {
     "data": {
      "text/plain": [
       "       Pregnancies     Glucose  BloodPressure  SkinThickness     Insulin  \\\n",
       "count   768.000000  768.000000     768.000000     768.000000  768.000000   \n",
       "mean      0.225720    0.501205       0.493638       0.237680    0.133042   \n",
       "std       0.196715    0.196361       0.119355       0.080895    0.009512   \n",
       "min       0.000000    0.000000       0.163265       0.081522    0.118840   \n",
       "25%       0.058824    0.359677       0.408163       0.195652    0.129207   \n",
       "50%       0.176471    0.470968       0.491863       0.239130    0.133413   \n",
       "75%       0.352941    0.620968       0.571429       0.271739    0.136118   \n",
       "max       0.794118    1.000000       0.816327       0.385870    0.146484   \n",
       "\n",
       "              BMI  DiabetesPedigreeFunction         Age     Outcome  \n",
       "count  768.000000                768.000000  768.000000  768.000000  \n",
       "mean     0.290299                  0.162645    0.203331    0.348958  \n",
       "std      0.136349                  0.121945    0.193807    0.476951  \n",
       "min      0.000000                  0.000000    0.000000    0.000000  \n",
       "25%      0.190184                  0.070773    0.050000    0.000000  \n",
       "50%      0.290389                  0.125747    0.133333    0.000000  \n",
       "75%      0.376278                  0.234095    0.333333    1.000000  \n",
       "max      0.655419                  0.479078    0.758333    1.000000  "
      ],
      "text/html": [
       "<div>\n",
       "<style scoped>\n",
       "    .dataframe tbody tr th:only-of-type {\n",
       "        vertical-align: middle;\n",
       "    }\n",
       "\n",
       "    .dataframe tbody tr th {\n",
       "        vertical-align: top;\n",
       "    }\n",
       "\n",
       "    .dataframe thead th {\n",
       "        text-align: right;\n",
       "    }\n",
       "</style>\n",
       "<table border=\"1\" class=\"dataframe\">\n",
       "  <thead>\n",
       "    <tr style=\"text-align: right;\">\n",
       "      <th></th>\n",
       "      <th>Pregnancies</th>\n",
       "      <th>Glucose</th>\n",
       "      <th>BloodPressure</th>\n",
       "      <th>SkinThickness</th>\n",
       "      <th>Insulin</th>\n",
       "      <th>BMI</th>\n",
       "      <th>DiabetesPedigreeFunction</th>\n",
       "      <th>Age</th>\n",
       "      <th>Outcome</th>\n",
       "    </tr>\n",
       "  </thead>\n",
       "  <tbody>\n",
       "    <tr>\n",
       "      <th>count</th>\n",
       "      <td>768.000000</td>\n",
       "      <td>768.000000</td>\n",
       "      <td>768.000000</td>\n",
       "      <td>768.000000</td>\n",
       "      <td>768.000000</td>\n",
       "      <td>768.000000</td>\n",
       "      <td>768.000000</td>\n",
       "      <td>768.000000</td>\n",
       "      <td>768.000000</td>\n",
       "    </tr>\n",
       "    <tr>\n",
       "      <th>mean</th>\n",
       "      <td>0.225720</td>\n",
       "      <td>0.501205</td>\n",
       "      <td>0.493638</td>\n",
       "      <td>0.237680</td>\n",
       "      <td>0.133042</td>\n",
       "      <td>0.290299</td>\n",
       "      <td>0.162645</td>\n",
       "      <td>0.203331</td>\n",
       "      <td>0.348958</td>\n",
       "    </tr>\n",
       "    <tr>\n",
       "      <th>std</th>\n",
       "      <td>0.196715</td>\n",
       "      <td>0.196361</td>\n",
       "      <td>0.119355</td>\n",
       "      <td>0.080895</td>\n",
       "      <td>0.009512</td>\n",
       "      <td>0.136349</td>\n",
       "      <td>0.121945</td>\n",
       "      <td>0.193807</td>\n",
       "      <td>0.476951</td>\n",
       "    </tr>\n",
       "    <tr>\n",
       "      <th>min</th>\n",
       "      <td>0.000000</td>\n",
       "      <td>0.000000</td>\n",
       "      <td>0.163265</td>\n",
       "      <td>0.081522</td>\n",
       "      <td>0.118840</td>\n",
       "      <td>0.000000</td>\n",
       "      <td>0.000000</td>\n",
       "      <td>0.000000</td>\n",
       "      <td>0.000000</td>\n",
       "    </tr>\n",
       "    <tr>\n",
       "      <th>25%</th>\n",
       "      <td>0.058824</td>\n",
       "      <td>0.359677</td>\n",
       "      <td>0.408163</td>\n",
       "      <td>0.195652</td>\n",
       "      <td>0.129207</td>\n",
       "      <td>0.190184</td>\n",
       "      <td>0.070773</td>\n",
       "      <td>0.050000</td>\n",
       "      <td>0.000000</td>\n",
       "    </tr>\n",
       "    <tr>\n",
       "      <th>50%</th>\n",
       "      <td>0.176471</td>\n",
       "      <td>0.470968</td>\n",
       "      <td>0.491863</td>\n",
       "      <td>0.239130</td>\n",
       "      <td>0.133413</td>\n",
       "      <td>0.290389</td>\n",
       "      <td>0.125747</td>\n",
       "      <td>0.133333</td>\n",
       "      <td>0.000000</td>\n",
       "    </tr>\n",
       "    <tr>\n",
       "      <th>75%</th>\n",
       "      <td>0.352941</td>\n",
       "      <td>0.620968</td>\n",
       "      <td>0.571429</td>\n",
       "      <td>0.271739</td>\n",
       "      <td>0.136118</td>\n",
       "      <td>0.376278</td>\n",
       "      <td>0.234095</td>\n",
       "      <td>0.333333</td>\n",
       "      <td>1.000000</td>\n",
       "    </tr>\n",
       "    <tr>\n",
       "      <th>max</th>\n",
       "      <td>0.794118</td>\n",
       "      <td>1.000000</td>\n",
       "      <td>0.816327</td>\n",
       "      <td>0.385870</td>\n",
       "      <td>0.146484</td>\n",
       "      <td>0.655419</td>\n",
       "      <td>0.479078</td>\n",
       "      <td>0.758333</td>\n",
       "      <td>1.000000</td>\n",
       "    </tr>\n",
       "  </tbody>\n",
       "</table>\n",
       "</div>"
      ]
     },
     "execution_count": 17,
     "metadata": {},
     "output_type": "execute_result"
    }
   ],
   "execution_count": 17
  },
  {
   "metadata": {},
   "cell_type": "markdown",
   "source": [
    "Анализируем общую информацию о датасете - типы данных, наличие пропусков, статистические характеристики.\n",
    "Это помогает понять структуру данных и выявить потенциальные проблемы, такие как выбросы или несоответствия в типах данных."
   ],
   "id": "b40f60bfcdc1a2f4"
  },
  {
   "metadata": {
    "ExecuteTime": {
     "end_time": "2025-10-26T11:45:09.710551Z",
     "start_time": "2025-10-26T11:45:09.519876Z"
    }
   },
   "cell_type": "code",
   "source": [
    "# Проверка баланса целевой переменной\n",
    "print(\"Распределение целевой переменной (Outcome):\")\n",
    "print(df['Outcome'].value_counts())\n",
    "print(\"\\nДоли классов:\")\n",
    "print(df['Outcome'].value_counts(normalize=True))\n",
    "\n",
    "# Визуализация распределения целевой переменной\n",
    "plt.figure(figsize=(8, 6))\n",
    "sns.countplot(data=df, x='Outcome')\n",
    "plt.title('Распределение целевой переменной Outcome')\n",
    "plt.xlabel('Outcome (0 - нет диабета, 1 - диабет)')\n",
    "plt.ylabel('Количество наблюдений')\n",
    "plt.show()"
   ],
   "id": "6acede8ac6aa2a",
   "outputs": [
    {
     "name": "stdout",
     "output_type": "stream",
     "text": [
      "Распределение целевой переменной (Outcome):\n",
      "Outcome\n",
      "0    500\n",
      "1    268\n",
      "Name: count, dtype: int64\n",
      "\n",
      "Доли классов:\n",
      "Outcome\n",
      "0    0.651042\n",
      "1    0.348958\n",
      "Name: proportion, dtype: float64\n"
     ]
    },
    {
     "data": {
      "text/plain": [
       "<Figure size 800x600 with 1 Axes>"
      ],
      "image/png": "[encoded data removed]"
     },
     "metadata": {},
     "output_type": "display_data"
    }
   ],
   "execution_count": 18
  },
  {
   "metadata": {},
   "cell_type": "markdown",
   "source": [
    "\n",
    "Анализируем распределение целевой переменной для понимания баланса классов.\n",
    "Это важно для выбора метрик и стратегии обучения моделей. Визуализация помогает наглядно оценить дисбаланс."
   ],
   "id": "85f517b73a493ddb"
  },
  {
   "metadata": {
    "ExecuteTime": {
     "end_time": "2025-10-26T11:45:09.720729Z",
     "start_time": "2025-10-26T11:45:09.710551Z"
    }
   },
   "cell_type": "code",
   "source": [
    "# Разделение на признаки и целевую переменную\n",
    "X = df.drop('Outcome', axis=1)\n",
    "y = df['Outcome']\n",
    "\n",
    "# Список всех признаков (все числовые)\n",
    "feature_names = X.columns.tolist()\n",
    "print(\"Список признаков:\", feature_names)\n"
   ],
   "id": "ad3882b8a11b7bc",
   "outputs": [
    {
     "name": "stdout",
     "output_type": "stream",
     "text": [
      "Список признаков: ['Pregnancies', 'Glucose', 'BloodPressure', 'SkinThickness', 'Insulin', 'BMI', 'DiabetesPedigreeFunction', 'Age']\n"
     ]
    }
   ],
   "execution_count": 19
  },
  {
   "metadata": {},
   "cell_type": "markdown",
   "source": [
    "Разделяем данные на матрицу признаков (X) и целевую переменную (y).\n",
    "Сохраняем список всех признаков для дальнейшего использования в пайплайне и анализе."
   ],
   "id": "78d1527a44a1be6c"
  },
  {
   "metadata": {
    "ExecuteTime": {
     "end_time": "2025-10-26T11:45:09.743608Z",
     "start_time": "2025-10-26T11:45:09.722506Z"
    }
   },
   "cell_type": "code",
   "source": [
    "# Разделяем признаки по стратегиям заполнения пропусков и нормализации\n",
    "# На основе анализа данных из ЛР-1:\n",
    "\n",
    "# Признаки с выбросами - заполняем медианой\n",
    "features_median = ['SkinThickness', 'Insulin']\n",
    "# Причины выбора медианы:\n",
    "# - SkinThickness: 227 пропусков, имеет относительно нормальное распределение с выбросами на конце\n",
    "# - Insulin: 374 пропуска, много значений близких к нулю и далеко за 400, асимметричное распределение\n",
    "# Медиана устойчива к выбросам и лучше сохраняет распределение\n",
    "\n",
    "# Признаки с нормальным распределением - заполняем средним\n",
    "features_mean = ['Glucose', 'BloodPressure', 'BMI']\n",
    "# Причины выбора среднего:\n",
    "# - Эти признаки имеют приблизительно нормальное распределение\n",
    "# - Среднее является эффективной оценкой для нормальных распределений\n",
    "# - Отсутствие сильных выбросов\n",
    "\n",
    "# Признаки без пропусков - только нормализация\n",
    "features_no_missing = ['Pregnancies', 'DiabetesPedigreeFunction', 'Age']\n",
    "# Причины отсутствия импьютера:\n",
    "# - В очищенном датасете эти признаки не содержат пропусков\n",
    "# - Pregnancies и Age - дискретные значения\n",
    "# - DiabetesPedigreeFunction имеет уникальное распределение\n",
    "\n",
    "# Создаем отдельные трансформеры для каждой группы\n",
    "median_transformer = Pipeline(steps=[\n",
    "    ('imputer', SimpleImputer(strategy='median')),  # Медиана для признаков с выбросами\n",
    "    ('scaler', MinMaxScaler())  # Нормализация в [0,1]\n",
    "])\n",
    "\n",
    "mean_transformer = Pipeline(steps=[\n",
    "    ('imputer', SimpleImputer(strategy='mean')),    # Среднее для нормальных распределений\n",
    "    ('scaler', MinMaxScaler())  # Нормализация в [0,1]\n",
    "])\n",
    "\n",
    "no_missing_transformer = Pipeline(steps=[\n",
    "    ('scaler', MinMaxScaler())  # Только нормализация для признаков без пропусков\n",
    "])\n",
    "\n",
    "# Объединение в ColumnTransformer\n",
    "preprocessor = ColumnTransformer(\n",
    "    transformers=[\n",
    "        ('median_imputer', median_transformer, features_median),\n",
    "        ('mean_imputer', mean_transformer, features_mean),\n",
    "        ('no_imputer', no_missing_transformer, features_no_missing)\n",
    "    ])\n",
    "\n",
    "print(\"Структура препроцессора создана успешно\")"
   ],
   "id": "a43e9a441ca0e381",
   "outputs": [
    {
     "name": "stdout",
     "output_type": "stream",
     "text": [
      "Структура препроцессора создана успешно\n"
     ]
    }
   ],
   "execution_count": 20
  },
  {
   "metadata": {},
   "cell_type": "markdown",
   "source": [
    "\n",
    "Пояснение: Создаем сложный пайплайн препроцессинга с разными стратегиями для разных групп признаков.\n",
    "Это позволяет оптимально обработать данные с учетом их специфики:\n",
    "\n",
    "    Для признаков с выбросами используем медиану (устойчива к выбросам)\n",
    "\n",
    "    Для нормально распределенных признаков используем среднее (эффективная оценка)\n",
    "\n",
    "    Для признаков без пропусков применяем только нормализацию\n",
    "    \n",
    "Такой подход минимизирует искажения данных и улучшает качество будущих моделей."
   ],
   "id": "4d1fce6dc0b6dc3d"
  },
  {
   "metadata": {
    "ExecuteTime": {
     "end_time": "2025-10-26T11:45:09.811034Z",
     "start_time": "2025-10-26T11:45:09.788883Z"
    }
   },
   "cell_type": "code",
   "source": [
    "# Стратифицированное разбиение на train/valid/test в соотношении 60/20/20\n",
    "X_temp, X_test, y_temp, y_test = train_test_split(\n",
    "    X, y, \n",
    "    test_size=0.2, \n",
    "    stratify=y,  # стратификация по целевой переменной\n",
    "    random_state=RANDOM_STATE\n",
    ")\n",
    "\n",
    "X_train, X_valid, y_train, y_valid = train_test_split(\n",
    "    X_temp, y_temp, \n",
    "    test_size=0.25,  # 0.25 от 80% = 20% от общего объема\n",
    "    stratify=y_temp,  # стратификация\n",
    "    random_state=RANDOM_STATE\n",
    ")\n",
    "\n",
    "print(\"Размеры выборок:\")\n",
    "print(f\"Обучающая выборка (train): {X_train.shape[0]} samples ({X_train.shape[0]/len(X)*100:.1f}%)\")\n",
    "print(f\"Валидационная выборка (valid): {X_valid.shape[0]} samples ({X_valid.shape[0]/len(X)*100:.1f}%)\")\n",
    "print(f\"Тестовая выборка (test): {X_test.shape[0]} samples ({X_test.shape[0]/len(X)*100:.1f}%)\")"
   ],
   "id": "76fbc51a8aba4909",
   "outputs": [
    {
     "name": "stdout",
     "output_type": "stream",
     "text": [
      "Размеры выборок:\n",
      "Обучающая выборка (train): 460 samples (59.9%)\n",
      "Валидационная выборка (valid): 154 samples (20.1%)\n",
      "Тестовая выборка (test): 154 samples (20.1%)\n"
     ]
    }
   ],
   "execution_count": 21
  },
  {
   "metadata": {},
   "cell_type": "markdown",
   "source": [
    "\n",
    "Разбиваем данные на обучающую (60%), валидационную (20%) и тестовую (20%) выборки.\n",
    "Используем стратификацию по целевой переменной для сохранения пропорций классов во всех выборках.\n",
    "Это особенно важно при дисбалансе классов, чтобы модели обучались на репрезентативных данных."
   ],
   "id": "f5a83b35e4fc09ca"
  },
  {
   "metadata": {
    "ExecuteTime": {
     "end_time": "2025-10-26T11:45:10.266801Z",
     "start_time": "2025-10-26T11:45:10.206632Z"
    }
   },
   "cell_type": "code",
   "source": [
    "# Обучаем пайплайн ТОЛЬКО на тренировочных данных\n",
    "print(\"Обучение пайплайна на тренировочных данных...\")\n",
    "preprocessor.fit(X_train)\n",
    "\n",
    "# Преобразуем все выборки с помощью ОБУЧЕННОГО пайплайна\n",
    "X_train_processed = preprocessor.transform(X_train)\n",
    "X_valid_processed = preprocessor.transform(X_valid) \n",
    "X_test_processed = preprocessor.transform(X_test)\n",
    "\n",
    "print(\"Пайплайн обучен на train и применен ко всем выборкам\")\n",
    "print(f\"Размеры обработанных данных: train {X_train_processed.shape}, valid {X_valid_processed.shape}, test {X_test_processed.shape}\")"
   ],
   "id": "4aa000ac020d3108",
   "outputs": [
    {
     "name": "stdout",
     "output_type": "stream",
     "text": [
      "Обучение пайплайна на тренировочных данных...\n",
      "Пайплайн обучен на train и применен ко всем выборкам\n",
      "Размеры обработанных данных: train (460, 8), valid (154, 8), test (154, 8)\n"
     ]
    }
   ],
   "execution_count": 22
  },
  {
   "metadata": {},
   "cell_type": "markdown",
   "source": [
    "Обучаем пайплайн препроцессинга ТОЛЬКО на тренировочных данных, затем применяем его ко всем выборкам.\n",
    "Это критически важно для избежания утечки данных.\n",
    "Модель не должна \"видеть\" информацию из валидационной или тестовой выборок во время обучения препроцессора."
   ],
   "id": "f7a250874e5d46b1"
  },
  {
   "metadata": {
    "ExecuteTime": {
     "end_time": "2025-10-26T11:45:10.422470Z",
     "start_time": "2025-10-26T11:45:10.395323Z"
    }
   },
   "cell_type": "code",
   "source": [
    "# Проверка распределения целевой переменной в разных выборках\n",
    "def check_stratification(y_train, y_valid, y_test, y_original):\n",
    "    \"\"\"Функция для проверки стратификации\"\"\"\n",
    "    original_dist = y_original.value_counts(normalize=True)\n",
    "    train_dist = y_train.value_counts(normalize=True)\n",
    "    valid_dist = y_valid.value_counts(normalize=True)\n",
    "    test_dist = y_test.value_counts(normalize=True)\n",
    "    \n",
    "    stratification_check = pd.DataFrame({\n",
    "        'Original': original_dist,\n",
    "        'Train': train_dist,\n",
    "        'Valid': valid_dist,\n",
    "        'Test': test_dist\n",
    "    })\n",
    "    \n",
    "    return stratification_check\n",
    "\n",
    "# Проверка стратификации\n",
    "strat_check = check_stratification(y_train, y_valid, y_test, y)\n",
    "print(\"Проверка стратификации (доли классов):\")\n",
    "print(strat_check)"
   ],
   "id": "a7e6538a1c6e9bbf",
   "outputs": [
    {
     "name": "stdout",
     "output_type": "stream",
     "text": [
      "Проверка стратификации (доли классов):\n",
      "         Original     Train     Valid      Test\n",
      "Outcome                                        \n",
      "0        0.651042  0.652174  0.649351  0.649351\n",
      "1        0.348958  0.347826  0.350649  0.350649\n"
     ]
    }
   ],
   "execution_count": 23
  },
  {
   "metadata": {},
   "cell_type": "markdown",
   "source": [
    "Проверяем корректность стратификации - убеждаемся, что распределение классов сохранилось во всех выборках.\n",
    "Это гарантирует, что модели будут обучаться на репрезентативных данных и оценки качества будут объективными."
   ],
   "id": "85296d950df4ad5b"
  },
  {
   "metadata": {
    "ExecuteTime": {
     "end_time": "2025-10-26T11:45:11.049273Z",
     "start_time": "2025-10-26T11:45:10.460127Z"
    }
   },
   "cell_type": "code",
   "source": [
    "# Визуализация распределения классов в разных выборках (2 графика в строке)\n",
    "fig, axes = plt.subplots(2, 2, figsize=(12, 10))\n",
    "\n",
    "# Исходное распределение\n",
    "axes[0,0].bar(['Нет диабета', 'Диабет'], [sum(y==0), sum(y==1)], color=['lightblue', 'lightcoral'])\n",
    "axes[0,0].set_title('Исходное распределение')\n",
    "axes[0,0].set_ylabel('Количество наблюдений')\n",
    "\n",
    "# Train выборка\n",
    "axes[0,1].bar(['Нет диабета', 'Диабет'], [sum(y_train==0), sum(y_train==1)], color=['lightblue', 'lightcoral'])\n",
    "axes[0,1].set_title('Train выборка')\n",
    "axes[0,1].set_ylabel('Количество наблюдений')\n",
    "\n",
    "# Valid выборка\n",
    "axes[1,0].bar(['Нет диабета', 'Диабет'], [sum(y_valid==0), sum(y_valid==1)], color=['lightblue', 'lightcoral'])\n",
    "axes[1,0].set_title('Valid выборка')\n",
    "axes[1,0].set_ylabel('Количество наблюдений')\n",
    "\n",
    "# Test выборка\n",
    "axes[1,1].bar(['Нет диабета', 'Диабет'], [sum(y_test==0), sum(y_test==1)], color=['lightblue', 'lightcoral'])\n",
    "axes[1,1].set_title('Test выборка')\n",
    "axes[1,1].set_ylabel('Количество наблюдений')\n",
    "\n",
    "plt.tight_layout()\n",
    "plt.show()"
   ],
   "id": "74269dce80292322",
   "outputs": [
    {
     "data": {
      "text/plain": [
       "<Figure size 1200x1000 with 4 Axes>"
      ],
      "image/png": "[encoded data removed]"
     },
     "metadata": {},
     "output_type": "display_data"
    }
   ],
   "execution_count": 24
  },
  {
   "metadata": {},
   "cell_type": "markdown",
   "source": [
    "Визуализируем распределение классов во всех выборках.\n",
    "Графики на русском языке с понятными подписями помогают наглядно убедиться в корректности стратификации.\n",
    "Компактное расположение 2x2 облегчает сравнение распределений."
   ],
   "id": "1f4f92320853c6fe"
  },
  {
   "metadata": {
    "ExecuteTime": {
     "end_time": "2025-10-26T11:45:11.062108Z",
     "start_time": "2025-10-26T11:45:11.049273Z"
    }
   },
   "cell_type": "code",
   "source": [
    "# Создание полного пайплайна для будущих моделей\n",
    "def create_model_pipeline(model):\n",
    "    \"\"\"Создание полного пайплайна с препроцессингом и моделью\"\"\"\n",
    "    return Pipeline(steps=[\n",
    "        ('preprocessor', preprocessor),\n",
    "        ('classifier', model)\n",
    "    ])\n",
    "\n",
    "print(\"Функция для создания пайплайнов готова\")"
   ],
   "id": "cfa9cb0fe82fbbc9",
   "outputs": [
    {
     "name": "stdout",
     "output_type": "stream",
     "text": [
      "Функция для создания пайплайнов готова\n"
     ]
    }
   ],
   "execution_count": 25
  },
  {
   "metadata": {},
   "cell_type": "markdown",
   "source": [
    "Создаем универсальную функцию для быстрого создания пайплайнов с любыми моделями классификации.\n",
    "Это упростит работу следующим участникам - им достаточно будет передать модель в эту функцию."
   ],
   "id": "ff7b176b0ddf7a8c"
  },
  {
   "metadata": {
    "ExecuteTime": {
     "end_time": "2025-10-26T11:45:11.084981Z",
     "start_time": "2025-10-26T11:45:11.064035Z"
    }
   },
   "cell_type": "code",
   "source": [
    "# Сохранение разделенных данных для следующих участников\n",
    "data_split = {\n",
    "    'X_train': X_train,\n",
    "    'X_valid': X_valid, \n",
    "    'X_test': X_test,\n",
    "    'y_train': y_train,\n",
    "    'y_valid': y_valid,\n",
    "    'y_test': y_test,\n",
    "    'X_train_processed': X_train_processed,\n",
    "    'X_valid_processed': X_valid_processed,\n",
    "    'X_test_processed': X_test_processed,\n",
    "    'feature_names': feature_names,\n",
    "    'preprocessor': preprocessor\n",
    "}\n",
    "\n",
    "# Сохранение в файл\n",
    "import pickle\n",
    "\n",
    "with open('../data/interim/data_split.pkl', 'wb') as f:\n",
    "    pickle.dump(data_split, f)\n",
    "\n",
    "print(\"Разделенные данные сохранены в файл 'data_split.pkl'\")"
   ],
   "id": "5d46cb9d8258fe10",
   "outputs": [
    {
     "name": "stdout",
     "output_type": "stream",
     "text": [
      "Разделенные данные сохранены в файл 'data_split.pkl'\n"
     ]
    }
   ],
   "execution_count": 26
  },
  {
   "metadata": {},
   "cell_type": "markdown",
   "source": [
    "\n",
    "Сохраняем все подготовленные данные и объекты в файл для передачи следующим участникам проекта.\n",
    "Это обеспечивает преемственность работы и исключает необходимость повторной подготовки данных."
   ],
   "id": "529718bf56f6c871"
  },
  {
   "metadata": {
    "ExecuteTime": {
     "end_time": "2025-10-26T11:45:11.099425Z",
     "start_time": "2025-10-26T11:45:11.087885Z"
    }
   },
   "cell_type": "code",
   "source": [
    "print(\"=\" * 50)\n",
    "print(\"ОТЧЕТ УЧАСТНИКА 1: ПОДГОТОВКА ДАННЫХ\")\n",
    "print(\"=\" * 50)\n",
    "\n",
    "print(\"\\n✅ ВЫПОЛНЕННЫЕ ЗАДАЧИ:\")\n",
    "print(\"1. Создан репозиторий проекта (ноутбук)\")\n",
    "print(\"2. Загружен очищенный датасет из ЛР-1\")\n",
    "print(\"3. Создан sklearn Pipeline с ColumnTransformer с разными стратегиями импьютации\")\n",
    "print(\"4. Выполнено стратифицированное разбиение 60/20/20\")\n",
    "print(\"5. Зафиксирован random_state = 42\")\n",
    "print(\"6. Пайплайн обучен на train и применен ко всем выборкам\")\n",
    "print(\"7. Проверена стратификация для дисбалансных классов\")\n",
    "print(\"8. Данные сохранены для следующих участников\")\n",
    "\n",
    "print(\"\\n📊 СТАТИСТИКА ДАННЫХ:\")\n",
    "print(f\"Общий размер датасета: {df.shape}\")\n",
    "print(f\"Количество признаков: {len(feature_names)}\")\n",
    "print(f\"Размер train: {X_train.shape} ({len(y_train)/len(df)*100:.1f}%)\")\n",
    "print(f\"Размер valid: {X_valid.shape} ({len(y_valid)/len(df)*100:.1f}%)\") \n",
    "print(f\"Размер test: {X_test.shape} ({len(y_test)/len(df)*100:.1f}%)\")\n",
    "\n",
    "print(\"\\n🎯 РАСПРЕДЕЛЕНИЕ ЦЕЛЕВОЙ ПЕРЕМЕННОЙ:\")\n",
    "print(f\"Класс 0 (нет диабета): {sum(y == 0)} ({sum(y == 0)/len(y)*100:.1f}%)\")\n",
    "print(f\"Класс 1 (диабет): {sum(y == 1)} ({sum(y == 1)/len(y)*100:.1f}%)\")\n",
    "\n",
    "print(\"\\n🔧 НАСТРОЙКИ ПРЕПРОЦЕССИНГА:\")\n",
    "print(\"• SkinThickness, Insulin: импьютация медианой + нормализация (из-за выбросов)\")\n",
    "print(\"• Glucose, BloodPressure, BMI: импьютация средним + нормализация (нормальное распределение)\")\n",
    "print(\"• Pregnancies, DiabetesPedigreeFunction, Age: только нормализация (нет пропусков)\")\n",
    "print(\"• Стратификация: включена\")\n",
    "\n",
    "print(\"\\n📁 СОХРАНЕННЫЕ ФАЙЛЫ:\")\n",
    "print(\"1. diabetes_clean.csv - исходные данные\")\n",
    "print(\"2. data_split.pkl - разделенные и обработанные данные для участников 2-5\")\n",
    "\n",
    "print(\"\\n➡️ ДАЛЬНЕЙШИЕ ДЕЙСТВИЯ:\")\n",
    "print(\"Участник 2 может приступать к обучению базовых моделей на подготовленных данных.\")"
   ],
   "id": "42bf4b812d2797bd",
   "outputs": [
    {
     "name": "stdout",
     "output_type": "stream",
     "text": [
      "==================================================\n",
      "ОТЧЕТ УЧАСТНИКА 1: ПОДГОТОВКА ДАННЫХ\n",
      "==================================================\n",
      "\n",
      "✅ ВЫПОЛНЕННЫЕ ЗАДАЧИ:\n",
      "1. Создан репозиторий проекта (ноутбук)\n",
      "2. Загружен очищенный датасет из ЛР-1\n",
      "3. Создан sklearn Pipeline с ColumnTransformer с разными стратегиями импьютации\n",
      "4. Выполнено стратифицированное разбиение 60/20/20\n",
      "5. Зафиксирован random_state = 42\n",
      "6. Пайплайн обучен на train и применен ко всем выборкам\n",
      "7. Проверена стратификация для дисбалансных классов\n",
      "8. Данные сохранены для следующих участников\n",
      "\n",
      "📊 СТАТИСТИКА ДАННЫХ:\n",
      "Общий размер датасета: (768, 9)\n",
      "Количество признаков: 8\n",
      "Размер train: (460, 8) (59.9%)\n",
      "Размер valid: (154, 8) (20.1%)\n",
      "Размер test: (154, 8) (20.1%)\n",
      "\n",
      "🎯 РАСПРЕДЕЛЕНИЕ ЦЕЛЕВОЙ ПЕРЕМЕННОЙ:\n",
      "Класс 0 (нет диабета): 500 (65.1%)\n",
      "Класс 1 (диабет): 268 (34.9%)\n",
      "\n",
      "🔧 НАСТРОЙКИ ПРЕПРОЦЕССИНГА:\n",
      "• SkinThickness, Insulin: импьютация медианой + нормализация (из-за выбросов)\n",
      "• Glucose, BloodPressure, BMI: импьютация средним + нормализация (нормальное распределение)\n",
      "• Pregnancies, DiabetesPedigreeFunction, Age: только нормализация (нет пропусков)\n",
      "• Стратификация: включена\n",
      "\n",
      "📁 СОХРАНЕННЫЕ ФАЙЛЫ:\n",
      "1. diabetes_clean.csv - исходные данные\n",
      "2. data_split.pkl - разделенные и обработанные данные для участников 2-5\n",
      "\n",
      "➡️ ДАЛЬНЕЙШИЕ ДЕЙСТВИЯ:\n",
      "Участник 2 может приступать к обучению базовых моделей на подготовленных данных.\n"
     ]
    }
   ],
   "execution_count": 27
  },
  {
   "metadata": {
    "ExecuteTime": {
     "end_time": "2025-10-26T11:45:11.105167Z",
     "start_time": "2025-10-26T11:45:11.099425Z"
    }
   },
   "cell_type": "code",
   "source": "",
   "id": "8b3e0d5429e37b6e",
   "outputs": [],
   "execution_count": 27
  }
 ],
 "metadata": {
  "kernelspec": {
   "display_name": "Python 3",
   "language": "python",
   "name": "python3"
  },
  "language_info": {
   "codemirror_mode": {
    "name": "ipython",
    "version": 2
   },
   "file_extension": ".py",
   "mimetype": "text/x-python",
   "name": "python",
   "nbconvert_exporter": "python",
   "pygments_lexer": "ipython2",
   "version": "2.7.6"
  }
 },
 "nbformat": 4,
 "nbformat_minor": 5
}
